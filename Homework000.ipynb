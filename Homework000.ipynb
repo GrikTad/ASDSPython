{
 "cells": [
  {
   "cell_type": "code",
   "execution_count": 1,
   "metadata": {},
   "outputs": [
    {
     "name": "stdout",
     "output_type": "stream",
     "text": [
      "’ ” ’ ” Hello world! ” ’ ” ’\n"
     ]
    }
   ],
   "source": [
    "#Homework 2.0\n",
    "print(\"’ ” ’ ” Hello world! ” ’ ” ’\")"
   ]
  },
  {
   "cell_type": "code",
   "execution_count": 2,
   "metadata": {},
   "outputs": [
    {
     "data": {
      "text/plain": [
       "[(-1+2j), (-1-2j)]"
      ]
     },
     "execution_count": 2,
     "metadata": {},
     "output_type": "execute_result"
    }
   ],
   "source": [
    "#Homework2.1\n",
    "import math\n",
    "def QuadEqSol():\n",
    "    a=float(input(\"Enter the first coefficient \"))\n",
    "    b=float(input(\"Enter the second coefficient \"))\n",
    "    c=float(input(\"Enter the third coefficient \"))\n",
    "    if b*b < 4*a*c:\n",
    "        sol1 = complex((-b/2*a),(math.sqrt(4*a*c-b*b)/2*a))\n",
    "        sol2 = complex((-b/2*a),(-math.sqrt(4*a*c-b*b)/2*a))\n",
    "        return [sol1,sol2]\n",
    "\n",
    "    else:\n",
    "        sol1 = (-b+math.sqrt(b*b-4*a*c))/(2*a)\n",
    "        sol2 = (-b-math.sqrt(b*b-4*a*c))/(2*a)\n",
    "        return [sol1,sol2]\n",
    "QuadEqSol()"
   ]
  },
  {
   "cell_type": "code",
   "execution_count": 3,
   "metadata": {},
   "outputs": [
    {
     "name": "stdout",
     "output_type": "stream",
     "text": [
      "e ** pi > pi ** e\n"
     ]
    }
   ],
   "source": [
    "#Homework2.2\n",
    "import numpy as np\n",
    "if np.e**np.pi > np.pi ** np.e:\n",
    "    print('e ** pi > pi ** e')\n",
    "elif np.e**np.pi < np.pi ** np.e:\n",
    "    print('e ** pi < pi ** e')\n",
    "else:\n",
    "    print('e ** pi = pi ** e')\n"
   ]
  }
 ],
 "metadata": {
  "kernelspec": {
   "display_name": "Python 3.10.6 64-bit",
   "language": "python",
   "name": "python3"
  },
  "language_info": {
   "codemirror_mode": {
    "name": "ipython",
    "version": 3
   },
   "file_extension": ".py",
   "mimetype": "text/x-python",
   "name": "python",
   "nbconvert_exporter": "python",
   "pygments_lexer": "ipython3",
   "version": "3.10.6"
  },
  "orig_nbformat": 4,
  "vscode": {
   "interpreter": {
    "hash": "e7370f93d1d0cde622a1f8e1c04877d8463912d04d973331ad4851f04de6915a"
   }
  }
 },
 "nbformat": 4,
 "nbformat_minor": 2
}
